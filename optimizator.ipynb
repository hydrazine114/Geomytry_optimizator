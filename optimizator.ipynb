{
 "cells": [
  {
   "cell_type": "code",
   "execution_count": 41,
   "metadata": {},
   "outputs": [],
   "source": [
    "import pandas as pd\n",
    "import numpy as np\n",
    "\n",
    "from scipy.spatial import distance\n",
    "from scipy.optimize import minimize\n",
    "\n",
    "import joblib\n",
    "\n",
    "from reader_writer import xyz_to_df"
   ]
  },
  {
   "cell_type": "code",
   "execution_count": 36,
   "metadata": {},
   "outputs": [
    {
     "data": {
      "text/plain": [
       "{'c': {'h': 1.09, 'c': 1.54, 'o': 1.42, 'n': 1.47},\n",
       " 'o': {'h': 0.97, 'c': 1.42, 'n': 1.43, 'o': 1.48},\n",
       " 'h': {'h': 0.74, 'c': 1.09, 'n': 1.01, 'o': 0.97},\n",
       " 'n': {'n': 1.45, 'c': 1.47, 'o': 1.43, 'h': 1.01}}"
      ]
     },
     "execution_count": 36,
     "metadata": {},
     "output_type": "execute_result"
    }
   ],
   "source": [
    "df = xyz_to_df('ethanol.xyz')\n",
    "r_c = joblib.load('r_c.pkl')\n",
    "r_c"
   ]
  },
  {
   "cell_type": "code",
   "execution_count": 52,
   "metadata": {},
   "outputs": [
    {
     "data": {
      "text/plain": [
       "0.062286068720076485"
      ]
     },
     "execution_count": 52,
     "metadata": {},
     "output_type": "execute_result"
    }
   ],
   "source": [
    "class Molecule:\n",
    "    def __init__(self, df, r_c, k_E_r=100):\n",
    "        self.df = df\n",
    "        self.r_c = r_c\n",
    "        self.create_bond_matrix()\n",
    "        self.create_distance_mask()\n",
    "        self.k_E_r = k_E_r\n",
    "\n",
    "    def create_bond_matrix(self, tol=0.2):\n",
    "        coords = self.df[['x', 'y', 'z']].values\n",
    "        atoms = self.df['atom'].values\n",
    "\n",
    "        dist_matrix = distance.cdist(coords, coords, 'euclidean')\n",
    "        bond_matrix = np.zeros(dist_matrix.shape, dtype=bool)\n",
    "\n",
    "        n = len(atoms)\n",
    "        for i in range(n):\n",
    "            for j in range(i+1, n):  # Only need to consider half the matrix\n",
    "                atom_i = atoms[i].lower()\n",
    "                atom_j = atoms[j].lower()\n",
    "\n",
    "                # Ensure we have bond length data for these atoms\n",
    "                if atom_i in self.r_c and atom_j in self.r_c[atom_i]:\n",
    "                    if abs(dist_matrix[i, j] - self.r_c[atom_i][atom_j]) < tol:\n",
    "                        bond_matrix[i, j] = bond_matrix[j, i] = True  # Atoms are likely bonded\n",
    "        self.df_bonds = pd.DataFrame(bond_matrix, index=atoms, columns=atoms)\n",
    "\n",
    "    def create_distance_mask(self):\n",
    "        atoms = self.df['atom'].values\n",
    "        n = len(atoms)\n",
    "\n",
    "        dist_mask = np.zeros((n, n), dtype=float)\n",
    "\n",
    "        for i in range(n):\n",
    "            for j in range(i+1, n):  # Only need to consider half the matrix\n",
    "                atom_i = atoms[i].lower()\n",
    "                atom_j = atoms[j].lower()\n",
    "\n",
    "                # Ensure we have bond length data for these atoms\n",
    "                if atom_i in self.r_c and atom_j in self.r_c[atom_i]:\n",
    "                    dist_mask[i, j] = dist_mask[j, i] = self.r_c[atom_i][atom_j]\n",
    "\n",
    "        self.df_dist_mask = pd.DataFrame(dist_mask, index=atoms, columns=atoms)\n",
    "\n",
    "    def energy_distance(self, coords):\n",
    "        # coords = self.df[['x', 'y', 'z']].values\n",
    "        coords = coords.reshape(df[['x', 'y', 'z']].shape)\n",
    "        dist_matrix = distance.cdist(coords, coords, 'euclidean')\n",
    "        return np.sum(self.k_E_r * (dist_matrix - self.df_dist_mask.values) ** 2 \\\n",
    "                      * self.df_bonds.values) / 2\n",
    "\n",
    "\n",
    "ethanol = Molecule(df, r_c)\n",
    "ethanol.df_bonds\n",
    "ethanol.energy_distance(ethanol.df[['x', 'y', 'z']].values.flatten())"
   ]
  },
  {
   "cell_type": "code",
   "execution_count": 53,
   "metadata": {},
   "outputs": [
    {
     "data": {
      "text/plain": [
       "(array([-2.07873172,  0.4328589 ,  0.07216627, -1.2203252 , -0.23396007,\n",
       "        -0.00901677, -1.26462523, -0.95287648,  0.80908878,  0.09534658,\n",
       "         0.56396543,  0.05361414,  1.22833655, -0.27287322, -0.12648248,\n",
       "         0.14876096,  1.11753864,  0.99105939,  1.2473821 , -0.8990527 ,\n",
       "         0.61408252,  0.13183892,  1.28388441, -0.76399516, -1.27362396,\n",
       "        -0.7747082 , -0.95392455]),\n",
       " 2.1578724683049923e-14)"
      ]
     },
     "execution_count": 53,
     "metadata": {},
     "output_type": "execute_result"
    }
   ],
   "source": [
    "def find_minima(f, initial_guess):\n",
    "    result = minimize(f, initial_guess, method='trust-constr')\n",
    "    if result.success:\n",
    "        return result.x, result.fun\n",
    "    else:\n",
    "        raise Exception(\"The optimization process was not successful.\")\n",
    "    \n",
    "find_minima(ethanol.energy_distance, ethanol.df[['x', 'y', 'z']].values.flatten())"
   ]
  }
 ],
 "metadata": {
  "kernelspec": {
   "display_name": "base",
   "language": "python",
   "name": "python3"
  },
  "language_info": {
   "codemirror_mode": {
    "name": "ipython",
    "version": 3
   },
   "file_extension": ".py",
   "mimetype": "text/x-python",
   "name": "python",
   "nbconvert_exporter": "python",
   "pygments_lexer": "ipython3",
   "version": "3.9.7"
  },
  "orig_nbformat": 4
 },
 "nbformat": 4,
 "nbformat_minor": 2
}
